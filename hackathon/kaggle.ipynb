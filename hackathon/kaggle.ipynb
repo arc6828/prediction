{
 "cells": [
  {
   "cell_type": "code",
   "execution_count": 1,
   "metadata": {},
   "outputs": [
    {
     "name": "stdout",
     "output_type": "stream",
     "text": [
      "File 'random_integers.json' has been generated with 1000 random integers.\n"
     ]
    }
   ],
   "source": [
    "import random\n",
    "import json\n",
    "\n",
    "# Generate 1000 random integers\n",
    "num_elements = 1000\n",
    "random_integers = [random.randint(1, 1000) for _ in range(num_elements)]  # Random integers between 1 and 1000\n",
    "\n",
    "# Save to a JSON file\n",
    "with open('random_integers.json', 'w') as file:\n",
    "    json.dump(random_integers, file, indent=4)  # indent=4 for pretty printing\n",
    "\n",
    "print(\"File 'random_integers.json' has been generated with 1000 random integers.\")"
   ]
  }
 ],
 "metadata": {
  "kernelspec": {
   "display_name": "nook-env",
   "language": "python",
   "name": "python3"
  },
  "language_info": {
   "codemirror_mode": {
    "name": "ipython",
    "version": 3
   },
   "file_extension": ".py",
   "mimetype": "text/x-python",
   "name": "python",
   "nbconvert_exporter": "python",
   "pygments_lexer": "ipython3",
   "version": "3.9.7"
  }
 },
 "nbformat": 4,
 "nbformat_minor": 2
}
