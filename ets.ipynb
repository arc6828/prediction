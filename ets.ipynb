{
 "cells": [
  {
   "cell_type": "code",
   "execution_count": null,
   "metadata": {},
   "outputs": [],
   "source": [
    "# config all inputs\n",
    "input_file = \"raw/Natural Gas - Reduced.csv\";\n",
    "key=\"Total Domestic Production\""
   ]
  },
  {
   "cell_type": "code",
   "execution_count": null,
   "metadata": {},
   "outputs": [],
   "source": [
    "import pandas as pd\n",
    "import numpy as np\n",
    "from statsmodels.tsa.holtwinters import ExponentialSmoothing\n",
    "import matplotlib.pyplot as plt\n",
    "\n",
    "# โหลดข้อมูล (ควรเปลี่ยนเส้นทางไฟล์ให้ถูกต้อง)\n",
    "data = pd.read_csv(input_file, parse_dates=['Date'], index_col='Date')\n",
    "\n",
    "# แยกข้อมูลออกเป็น train และ test sets\n",
    "train = data[:'2022-12-31']\n",
    "test = data['2023-01-01':]\n",
    "\n",
    "# สร้างโมเดล ETS (Exponential Smoothing)\n",
    "model = ExponentialSmoothing(train[key], seasonal='add', seasonal_periods=12)\n",
    "ets_model = model.fit()\n",
    "\n",
    "# พยากรณ์ค่าในอนาคต\n",
    "forecast = ets_model.forecast(steps=len(test))\n",
    "\n",
    "# วาดกราฟเปรียบเทียบ\n",
    "plt.figure(figsize=(12, 6))\n",
    "plt.plot(train.index, train[key], label='Train')\n",
    "plt.plot(test.index, test[key], label='Test')\n",
    "plt.plot(test.index, forecast, label='Forecast')\n",
    "plt.legend()\n",
    "plt.show()\n",
    "\n",
    "# สร้าง DataFrame สำหรับผลการพยากรณ์\n",
    "forecast_df = pd.DataFrame({\n",
    "    'date': test.index,\n",
    "    'actual': test[key],\n",
    "    'forecast': forecast\n",
    "})\n",
    "\n",
    "# ตั้งค่า index ของ DataFrame เป็น date\n",
    "forecast_df.set_index('date', inplace=True)\n",
    "\n",
    "# ส่งออกผลลัพธ์ไปยังไฟล์ .csv\n",
    "forecast_df.to_csv('output/forecasted_gas_demand_expo_smoothing.csv')\n"
   ]
  }
 ],
 "metadata": {
  "kernelspec": {
   "display_name": "nook-env",
   "language": "python",
   "name": "python3"
  },
  "language_info": {
   "name": "python",
   "version": "3.12.3"
  }
 },
 "nbformat": 4,
 "nbformat_minor": 2
}
