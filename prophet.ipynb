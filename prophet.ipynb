{
 "cells": [
  {
   "cell_type": "code",
   "execution_count": 1,
   "metadata": {},
   "outputs": [],
   "source": [
    "# config all inputs\n",
    "input_file = \"raw/Natural Gas - Reduced.csv\";\n",
    "key=\"Total Domestic Production\"\n",
    "output_file = \"output/forecasted_gas_demand_prophet.csv\";"
   ]
  },
  {
   "cell_type": "code",
   "execution_count": 3,
   "metadata": {},
   "outputs": [
    {
     "ename": "ModuleNotFoundError",
     "evalue": "No module named 'fbprophet'",
     "output_type": "error",
     "traceback": [
      "\u001b[1;31m---------------------------------------------------------------------------\u001b[0m",
      "\u001b[1;31mModuleNotFoundError\u001b[0m                       Traceback (most recent call last)",
      "Cell \u001b[1;32mIn[3], line 2\u001b[0m\n\u001b[0;32m      1\u001b[0m \u001b[38;5;28;01mimport\u001b[39;00m \u001b[38;5;21;01mpandas\u001b[39;00m \u001b[38;5;28;01mas\u001b[39;00m \u001b[38;5;21;01mpd\u001b[39;00m\n\u001b[1;32m----> 2\u001b[0m \u001b[38;5;28;01mfrom\u001b[39;00m \u001b[38;5;21;01mfbprophet\u001b[39;00m \u001b[38;5;28;01mimport\u001b[39;00m Prophet\n\u001b[0;32m      3\u001b[0m \u001b[38;5;28;01mimport\u001b[39;00m \u001b[38;5;21;01mmatplotlib\u001b[39;00m\u001b[38;5;21;01m.\u001b[39;00m\u001b[38;5;21;01mpyplot\u001b[39;00m \u001b[38;5;28;01mas\u001b[39;00m \u001b[38;5;21;01mplt\u001b[39;00m\n\u001b[0;32m      5\u001b[0m \u001b[38;5;66;03m# โหลดข้อมูล (ควรเปลี่ยนเส้นทางไฟล์ให้ถูกต้อง)\u001b[39;00m\n",
      "\u001b[1;31mModuleNotFoundError\u001b[0m: No module named 'fbprophet'"
     ]
    }
   ],
   "source": [
    "import pandas as pd\n",
    "from fbprophet import Prophet\n",
    "import matplotlib.pyplot as plt\n",
    "\n",
    "# โหลดข้อมูล (ควรเปลี่ยนเส้นทางไฟล์ให้ถูกต้อง)\n",
    "data = pd.read_csv(input_file, parse_dates=['Date'])\n",
    "\n",
    "# เปลี่ยนชื่อคอลัมน์ให้ตรงตามที่ Prophet ต้องการ\n",
    "data.rename(columns={'Date': 'ds', key: 'y'}, inplace=True)\n",
    "\n",
    "# แยกข้อมูลออกเป็น train และ test sets\n",
    "train = data[data['ds'] <= '2022-12-31']\n",
    "test = data[data['ds'] > '2022-12-31']\n",
    "\n",
    "# สร้างโมเดล Prophet\n",
    "model = Prophet()\n",
    "model.fit(train)\n",
    "\n",
    "# ทำการพยากรณ์ค่าในอนาคต\n",
    "future = model.make_future_dataframe(periods=len(test))\n",
    "forecast = model.predict(future)\n",
    "\n",
    "# วาดกราฟเปรียบเทียบ\n",
    "fig = model.plot(forecast)\n",
    "plt.scatter(test['ds'], test['y'], color='red', label='Test data')\n",
    "plt.legend()\n",
    "plt.show()\n",
    "\n",
    "# สร้าง DataFrame สำหรับผลการพยากรณ์\n",
    "forecast_df = forecast[['ds', 'yhat', 'yhat_lower', 'yhat_upper']]\n",
    "forecast_df = forecast_df[forecast_df['ds'].isin(test['ds'])]\n",
    "\n",
    "# รวมข้อมูลที่พยากรณ์กับข้อมูลจริง\n",
    "forecast_df = forecast_df.merge(test, on='ds')\n",
    "forecast_df.rename(columns={'y': 'actual', 'yhat': 'forecast', 'yhat_lower': 'lower_conf_int', 'yhat_upper': 'upper_conf_int'}, inplace=True)\n",
    "\n",
    "# ส่งออกผลลัพธ์ไปยังไฟล์ .csv\n",
    "forecast_df.to_csv(output_file, index=False)\n"
   ]
  }
 ],
 "metadata": {
  "kernelspec": {
   "display_name": "nook-env",
   "language": "python",
   "name": "python3"
  },
  "language_info": {
   "codemirror_mode": {
    "name": "ipython",
    "version": 3
   },
   "file_extension": ".py",
   "mimetype": "text/x-python",
   "name": "python",
   "nbconvert_exporter": "python",
   "pygments_lexer": "ipython3",
   "version": "3.12.3"
  }
 },
 "nbformat": 4,
 "nbformat_minor": 2
}
